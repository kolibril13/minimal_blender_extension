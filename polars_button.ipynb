{
 "cells": [
  {
   "cell_type": "code",
   "execution_count": 6,
   "id": "84238f9f",
   "metadata": {},
   "outputs": [
    {
     "name": "stdout",
     "output_type": "stream",
     "text": [
      "Generating 10000 random coordinates and writing to random_coordinates.csv...\n",
      "CSV file random_coordinates.csv created successfully in 0.02 seconds.\n",
      "\n"
     ]
    }
   ],
   "source": []
  },
  {
   "cell_type": "code",
   "execution_count": 2,
   "id": "7dc9bf22",
   "metadata": {},
   "outputs": [
    {
     "name": "stdout",
     "output_type": "stream",
     "text": [
      "register_class(...):\n",
      "Info: Registering operator class: 'ImportCsvPolarsOperator', bl_idname 'wm.import_csv_polars_operator' has been registered before, unregistering previous\n",
      "register_class(...):\n",
      "Info: Registering panel class: 'WORLD_PT_import_csv_panel', bl_idname 'WORLD_PT_import_csv_panel' has been registered before, unregistering previous\n",
      "Info:  🐻‍❄️ 📥 Grrr!! Added <bpy_struct, Object(\"IceBear.005\") at 0x12f693608>\n",
      "Info:  🐻‍❄️ 📥 Grrr!! Added <bpy_struct, Object(\"IceBear.006\") at 0x334019008>\n"
     ]
    }
   ],
   "source": [
    "import bpy\n",
    "import random\n",
    "import polars as pl\n",
    "\n",
    "# Operator for the button\n",
    "class ImportCsvPolarsOperator(bpy.types.Operator):\n",
    "    bl_idname = \"wm.import_csv_polars_operator\"\n",
    "    bl_label = \"Import CSV (Polars)\"\n",
    "\n",
    "    def execute(self, context):\n",
    "\n",
    "\n",
    "        CSV_FILE = \"random_coordinates.csv\"\n",
    "\n",
    "        df_polars = pl.read_csv(CSV_FILE)\n",
    "\n",
    "        mesh = bpy.data.meshes.new(\"PointCloudMesh\")\n",
    "        icebear_obj = bpy.data.objects.new(\"IceBear\", mesh)\n",
    "        bpy.context.collection.objects.link(icebear_obj)\n",
    "        \n",
    "        length = len(df_polars)\n",
    "        vertices = [(0, 0, 0) for _ in range(length)]\n",
    "        mesh.from_pydata(vertices, [], [])\n",
    "        mesh.update()\n",
    "        # Add each attribute individually to the mesh \n",
    "        lat_attr = mesh.attributes.new(name='coord1', type='FLOAT', domain='POINT')\n",
    "        lng_attr = mesh.attributes.new(name='coord2', type='FLOAT', domain='POINT') \n",
    "        \n",
    "        # set the values for the attributes\n",
    "        lat_attr.data.foreach_set('value', df_polars['x'])\n",
    "        lng_attr.data.foreach_set('value', df_polars['y'])\n",
    "        \n",
    "        mesh.update()\n",
    "        \n",
    "        self.report({'INFO'}, f\" 🐻‍❄️ 📥 Grrr!! Added {icebear_obj}\")\n",
    "        return {'FINISHED'}\n",
    "\n",
    "# Function to add the button to the World Scene Panel\n",
    "class WORLD_PT_import_csv_panel(bpy.types.Panel):\n",
    "    bl_label = \"Import CSV with Polars\"\n",
    "    bl_idname = \"WORLD_PT_import_csv_panel\"\n",
    "    bl_space_type = 'PROPERTIES'\n",
    "    bl_region_type = 'WINDOW'\n",
    "    bl_context = \"world\"  # This targets the World Properties tab\n",
    "\n",
    "    def draw(self, context):\n",
    "        layout = self.layout\n",
    "        layout.operator(\"wm.import_csv_polars_operator\", text=\"🐻‍❄️📥 Polars Import\", emboss=True)\n",
    "\n",
    "# Register the operator and the panel\n",
    "def register():\n",
    "    bpy.utils.register_class(ImportCsvPolarsOperator)\n",
    "    bpy.utils.register_class(WORLD_PT_import_csv_panel)\n",
    "\n",
    "# Unregister the operator and the panel\n",
    "def unregister():\n",
    "    bpy.utils.unregister_class(WORLD_PT_import_csv_panel)\n",
    "    bpy.utils.unregister_class(ImportCsvPolarsOperator)\n",
    "\n",
    "# Call the register function to initialize the button and panel\n",
    "register()"
   ]
  }
 ],
 "metadata": {
  "kernelspec": {
   "display_name": "blender",
   "language": "python",
   "name": "blender"
  },
  "language_info": {
   "codemirror_mode": {
    "name": "ipython",
    "version": 3
   },
   "file_extension": ".py",
   "mimetype": "text/x-python",
   "name": "python",
   "nbconvert_exporter": "python",
   "pygments_lexer": "ipython3",
   "version": "3.11.9"
  }
 },
 "nbformat": 4,
 "nbformat_minor": 5
}
