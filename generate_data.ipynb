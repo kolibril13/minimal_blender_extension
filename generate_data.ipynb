{
 "cells": [
  {
   "cell_type": "code",
   "execution_count": 7,
   "metadata": {
    "vscode": {
     "languageId": "plaintext"
    }
   },
   "outputs": [
    {
     "name": "stdout",
     "output_type": "stream",
     "text": [
      "Generating 10000 random coordinates and writing to random_coordinates.csv...\n",
      "CSV file random_coordinates.csv created successfully in 0.01 seconds.\n",
      "\n"
     ]
    }
   ],
   "source": [
    "import csv\n",
    "import random\n",
    "import time\n",
    "import pandas as pd\n",
    "import polars as pl\n",
    "\n",
    "# Constants\n",
    "NUM_ROWS = 10_000\n",
    "CSV_FILE = \"random_coordinates.csv\"\n",
    "\n",
    "# Step 1: Generate the CSV file\n",
    "print(f\"Generating {NUM_ROWS} random coordinates and writing to {CSV_FILE}...\")\n",
    "\n",
    "start_time = time.time()\n",
    "with open(CSV_FILE, mode=\"w\", newline=\"\") as file:\n",
    "    writer = csv.writer(file)\n",
    "    writer.writerow([\"x\", \"y\"])  # Header row\n",
    "\n",
    "    for _ in range(NUM_ROWS):\n",
    "        x = random.uniform(-1_000, 1_000)  # Random float between -1000 and 1000\n",
    "        y = random.uniform(-1_000, 1_000)\n",
    "        writer.writerow([x, y])\n",
    "end_time = time.time()\n",
    "\n",
    "csv_generation_time = end_time - start_time\n",
    "print(f\"CSV file {CSV_FILE} created successfully in {csv_generation_time:.2f} seconds.\\n\")"
   ]
  },
  {
   "cell_type": "code",
   "execution_count": 6,
   "metadata": {},
   "outputs": [
    {
     "name": "stdout",
     "output_type": "stream",
     "text": [
      "\u001b[2mUsing Python 3.11.10 environment at /Users/jan-hendrik/.venv\u001b[0m\n",
      "\u001b[2K\u001b[2mResolved \u001b[1m1 package\u001b[0m \u001b[2min 107ms\u001b[0m\u001b[0m                                          \u001b[0m\n",
      "\u001b[2K\u001b[2mInstalled \u001b[1m1 package\u001b[0m \u001b[2min 6ms\u001b[0m\u001b[0m                                  \u001b[0m\n",
      " \u001b[32m+\u001b[39m \u001b[1mpolars\u001b[0m\u001b[2m==1.16.0\u001b[0m\n"
     ]
    }
   ],
   "source": [
    "!uv pip install polars"
   ]
  },
  {
   "cell_type": "code",
   "execution_count": null,
   "metadata": {},
   "outputs": [],
   "source": []
  }
 ],
 "metadata": {
  "kernelspec": {
   "display_name": "Python 3 (ipykernel)",
   "language": "python",
   "name": "python3"
  },
  "language_info": {
   "codemirror_mode": {
    "name": "ipython",
    "version": 3
   },
   "file_extension": ".py",
   "mimetype": "text/x-python",
   "name": "python",
   "nbconvert_exporter": "python",
   "pygments_lexer": "ipython3",
   "version": "3.11.10"
  }
 },
 "nbformat": 4,
 "nbformat_minor": 4
}
