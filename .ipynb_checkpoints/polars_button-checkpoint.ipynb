{
 "cells": [
  {
   "cell_type": "code",
   "execution_count": 2,
   "id": "7dc9bf22",
   "metadata": {},
   "outputs": [
    {
     "name": "stdout",
     "output_type": "stream",
     "text": [
      "register_class(...):\n",
      "Info: Registering operator class: 'ImportCsvPolarsOperator', bl_idname 'wm.import_csv_polars_operator' has been registered before, unregistering previous\n",
      "register_class(...):\n",
      "Info: Registering panel class: 'WORLD_PT_import_csv_panel', bl_idname 'WORLD_PT_import_csv_panel' has been registered before, unregistering previous\n",
      "Info:  🐻‍❄️ 📥 Grrr!! Added UV sphere at (3.20, 2.80, 9.86)\n",
      "Info:  🐻‍❄️ 📥 Grrr!! Added UV sphere at (3.47, -4.85, -4.69)\n",
      "Info:  🐻‍❄️ 📥 Grrr!! Added UV sphere at (1.04, 0.98, -8.82)\n",
      "Info:  🐻‍❄️ 📥 Grrr!! Added UV sphere at (6.70, 2.83, -7.77)\n"
     ]
    }
   ],
   "source": [
    "import bpy\n",
    "import random\n",
    "\n",
    "# Operator for the button\n",
    "class ImportCsvPolarsOperator(bpy.types.Operator):\n",
    "    bl_idname = \"wm.import_csv_polars_operator\"\n",
    "    bl_label = \"Import CSV (Polars)\"\n",
    "\n",
    "    def execute(self, context):\n",
    "        # Add a UV sphere at a random position\n",
    "        x = random.uniform(-10.0, 10.0)\n",
    "        y = random.uniform(-10.0, 10.0)\n",
    "        z = random.uniform(-10.0, 10.0)\n",
    "        bpy.ops.mesh.primitive_uv_sphere_add(location=(x, y, z))\n",
    "        \n",
    "        self.report({'INFO'}, f\" 🐻‍❄️ 📥 Grrr!! Added UV sphere at ({x:.2f}, {y:.2f}, {z:.2f})\")\n",
    "        return {'FINISHED'}\n",
    "\n",
    "# Function to add the button to the World Scene Panel\n",
    "class WORLD_PT_import_csv_panel(bpy.types.Panel):\n",
    "    bl_label = \"Import CSV with Polars\"\n",
    "    bl_idname = \"WORLD_PT_import_csv_panel\"\n",
    "    bl_space_type = 'PROPERTIES'\n",
    "    bl_region_type = 'WINDOW'\n",
    "    bl_context = \"world\"  # This targets the World Properties tab\n",
    "\n",
    "    def draw(self, context):\n",
    "        layout = self.layout\n",
    "        layout.operator(\"wm.import_csv_polars_operator\", text=\"🐻‍❄️📥 Polars Import\", emboss=True)\n",
    "\n",
    "# Register the operator and the panel\n",
    "def register():\n",
    "    bpy.utils.register_class(ImportCsvPolarsOperator)\n",
    "    bpy.utils.register_class(WORLD_PT_import_csv_panel)\n",
    "\n",
    "# Unregister the operator and the panel\n",
    "def unregister():\n",
    "    bpy.utils.unregister_class(WORLD_PT_import_csv_panel)\n",
    "    bpy.utils.unregister_class(ImportCsvPolarsOperator)\n",
    "\n",
    "# Call the register function to initialize the button and panel\n",
    "register()"
   ]
  },
  {
   "cell_type": "code",
   "execution_count": 17,
   "id": "e376df59",
   "metadata": {},
   "outputs": [],
   "source": [
    "import polars"
   ]
  },
  {
   "cell_type": "code",
   "execution_count": 32,
   "id": "d97b6d44-796b-49a4-929a-da83dab7cc53",
   "metadata": {},
   "outputs": [
    {
     "name": "stdout",
     "output_type": "stream",
     "text": [
      "Benchmarking Polars read_csv...\n",
      "Polars read_csv completed in 0.00 seconds.\n",
      "\n"
     ]
    }
   ],
   "source": [
    "print(\"Benchmarking Polars read_csv...\")\n",
    "\n",
    "start_time = time.time()\n",
    "df_polars = pl.read_csv(CSV_FILE)\n",
    "end_time = time.time()\n",
    "\n",
    "polars_time = end_time - start_time\n",
    "print(f\"Polars read_csv completed in {polars_time:.2f} seconds.\\n\")"
   ]
  },
  {
   "cell_type": "code",
   "execution_count": 33,
   "id": "52884ccd-489f-4f09-bb93-3a857f14e6e1",
   "metadata": {},
   "outputs": [],
   "source": [
    "mesh = bpy.data.meshes.new(\"PointCloudMesh\")\n",
    "icebear_obj = bpy.data.objects.new(\"IceBear\", mesh)\n",
    "bpy.context.collection.objects.link(icebear_obj)\n",
    "\n",
    "length = len(df_polars)\n",
    "vertices = [(0, 0, 0) for _ in range(length)]\n",
    "mesh.from_pydata(vertices, [], [])\n",
    "mesh.update()"
   ]
  },
  {
   "cell_type": "code",
   "execution_count": 34,
   "id": "613ca6ee-0174-4c7b-bad6-9a51aac552f1",
   "metadata": {},
   "outputs": [],
   "source": [
    "# Add each attribute individually to the mesh \n",
    "lat_attr = mesh.attributes.new(name='coord1', type='FLOAT', domain='POINT')\n",
    "lng_attr = mesh.attributes.new(name='coord2', type='FLOAT', domain='POINT') "
   ]
  },
  {
   "cell_type": "code",
   "execution_count": 35,
   "id": "b7a7711a-5063-483e-abb9-b4fc43c5c4e4",
   "metadata": {},
   "outputs": [],
   "source": [
    "# set the values for the attributes\n",
    "lat_attr.data.foreach_set('value', df_polars['x'])\n",
    "lng_attr.data.foreach_set('value', df_polars['y'])\n",
    "\n",
    "mesh.update()"
   ]
  },
  {
   "cell_type": "code",
   "execution_count": 16,
   "id": "b3b65d70-7614-4dc9-a1fe-3698037311a0",
   "metadata": {},
   "outputs": [
    {
     "name": "stdout",
     "output_type": "stream",
     "text": [
      "Generating 10000 random coordinates and writing to random_coordinates.csv...\n",
      "CSV file random_coordinates.csv created successfully in 0.03 seconds.\n",
      "\n"
     ]
    }
   ],
   "source": [
    "import csv\n",
    "import random\n",
    "import time\n",
    "import pandas as pd\n",
    "import polars as pl\n",
    "\n",
    "# Constants\n",
    "NUM_ROWS = 10_000\n",
    "CSV_FILE = \"random_coordinates.csv\"\n",
    "\n",
    "# Step 1: Generate the CSV file\n",
    "print(f\"Generating {NUM_ROWS} random coordinates and writing to {CSV_FILE}...\")\n",
    "\n",
    "start_time = time.time()\n",
    "with open(CSV_FILE, mode=\"w\", newline=\"\") as file:\n",
    "    writer = csv.writer(file)\n",
    "    writer.writerow([\"x\", \"y\"])  # Header row\n",
    "\n",
    "    for _ in range(NUM_ROWS):\n",
    "        x = random.uniform(-1_000, 1_000)  # Random float between -1000 and 1000\n",
    "        y = random.uniform(-1_000, 1_000)\n",
    "        writer.writerow([x, y])\n",
    "end_time = time.time()\n",
    "\n",
    "csv_generation_time = end_time - start_time\n",
    "print(f\"CSV file {CSV_FILE} created successfully in {csv_generation_time:.2f} seconds.\\n\")\n"
   ]
  }
 ],
 "metadata": {
  "kernelspec": {
   "display_name": "blender",
   "language": "python",
   "name": "blender"
  },
  "language_info": {
   "codemirror_mode": {
    "name": "ipython",
    "version": 3
   },
   "file_extension": ".py",
   "mimetype": "text/x-python",
   "name": "python",
   "nbconvert_exporter": "python",
   "pygments_lexer": "ipython3",
   "version": "3.11.9"
  }
 },
 "nbformat": 4,
 "nbformat_minor": 5
}
